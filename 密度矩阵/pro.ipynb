{
 "cells": [
  {
   "cell_type": "code",
   "execution_count": null,
   "metadata": {},
   "outputs": [],
   "source": [
    "# 导入gTTS和MathTalk库\n",
    "from gtts import gTTS\n",
    "from mathtalk import MathTalk\n",
    "\n",
    "# 创建一个MathTalk对象\n",
    "mt = MathTalk()\n",
    "\n",
    "# 从markdown文件中读取文字\n",
    "with open(\"密度矩阵理论.md\", \"r\", encoding=\"utf-8\") as f:\n",
    "    text = f.read()\n",
    "\n",
    "# 将文字中的数学公式用MathTalk转换为英文语音\n",
    "text = mt.replace_math(text)\n",
    "\n",
    "# 创建一个gTTS对象，设置语言为中文，音调为普通\n",
    "tts = gTTS(text, lang=\"zh-CN\", tld=\"cn\")\n",
    "\n",
    "# 将gTTS对象保存为mp3文件\n",
    "tts.save(\"speech.mp3\")\n"
   ]
  },
  {
   "cell_type": "code",
   "execution_count": null,
   "metadata": {},
   "outputs": [],
   "source": [
    "# 导入MoviePy库\n",
    "import moviepy.editor as mpy\n",
    "\n",
    "# 从文本文件中读取文字\n",
    "with open(\"密度矩阵理论.md\", \"r\", encoding=\"utf-8\") as f:\n",
    "    text = f.read()\n",
    "\n",
    "# 创建一个文本剪辑，设置字体、颜色、位置等参数\n",
    "text_clip = mpy.TextClip(text, font=\"SimHei\", color=\"white\", fontsize=24, align=\"center\")\n",
    "\n",
    "# 设置文本剪辑的持续时间和背景颜色\n",
    "text_clip = text_clip.set_duration(10).on_color(color=(0, 0, 0))\n",
    "\n",
    "# 创建一个音频剪辑，从音频文件中读取声音\n",
    "audio_clip = mpy.AudioFileClip(\"speech.mp3.mp3\")\n",
    "\n",
    "# 将音频剪辑设置为文本剪辑的音频\n",
    "text_clip = text_clip.set_audio(audio_clip)\n",
    "\n",
    "# 将文本剪辑写入mp4文件\n",
    "text_clip.write_videofile(\"video.mp4\", fps=24)\n"
   ]
  }
 ],
 "metadata": {
  "kernelspec": {
   "display_name": "Python 3",
   "language": "python",
   "name": "python3"
  },
  "language_info": {
   "codemirror_mode": {
    "name": "ipython",
    "version": 3
   },
   "file_extension": ".py",
   "mimetype": "text/x-python",
   "name": "python",
   "nbconvert_exporter": "python",
   "pygments_lexer": "ipython3",
   "version": "3.10.11"
  },
  "orig_nbformat": 4
 },
 "nbformat": 4,
 "nbformat_minor": 2
}

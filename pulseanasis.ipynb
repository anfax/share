{
 "cells": [
  {
   "cell_type": "code",
   "execution_count": null,
   "metadata": {},
   "outputs": [],
   "source": [
    "import numpy as np\n",
    "import matplotlib.pyplot as plt\n",
    "\n",
    "# Define some parameters\n",
    "E0 = 1.0 # electric field amplitude\n",
    "x0 = 0.0 # beam center x position\n",
    "y0 = 0.0 # beam center y position\n",
    "w0 = 0.01 # beam waist radius\n",
    "zR = np.pi * w0**2 / 780e-9 # Rayleigh range\n",
    "tau = 10e-12 # pulse duration\n",
    "k = 2 * np.pi / 780e-9 # wave number\n",
    "omega = k * 3e8 # angular frequency\n",
    "phi = 0.0 # phase\n",
    "\n",
    "# Define a function to calculate the beam radius at a given z position\n",
    "def w(z):\n",
    "    return w0 * np.sqrt(1 + (z / zR)**2)\n",
    "\n",
    "# Define a function to calculate the electric field at a given position and time\n",
    "def E(x, y, z, t):\n",
    "    return E0 * np.exp (-((x - x0)**2 + (y - y0)**2) / w(z)**2) * np.exp (-((t - t0)**2) / tau**2) * np.exp (1j * (k * z - omega * t + phi))\n",
    "\n",
    "# Define a function to calculate the energy density at a given position and time\n",
    "def U(x, y, z, t):\n",
    "    return 0.5 * 8.85e-12 * 3e8 * abs(E(x, y, z, t))**2"
   ]
  },
  {
   "cell_type": "code",
   "execution_count": null,
   "metadata": {},
   "outputs": [],
   "source": [
    "# Define some arrays for x, y, z and t values\n",
    "x = np.linspace(-0.05, 0.05, 100)\n",
    "y = np.linspace(-0.05, 0.05, 100)\n",
    "z = np.linspace(-1, 1, 100)\n",
    "t = np.linspace(-50e-12, 50e-12, 100)\n",
    "\n",
    "# Create a meshgrid for x and y values\n",
    "X, Y = np.meshgrid(x, y)\n",
    "\n",
    "# Choose a fixed z and t value for plotting\n",
    "z0 = 0.5 # z position in meters\n",
    "t0 = 10e-12 # "
   ]
  },
  {
   "cell_type": "code",
   "execution_count": null,
   "metadata": {},
   "outputs": [],
   "source": [
    "U0 = U(X, Y, z0, t0)\n",
    "# Plot the energy density using a contourf plot\n",
    "plt.figure()\n",
    "plt.contourf(X, Y, U0, cmap='jet')\n",
    "plt.xlabel('x (m)')\n",
    "plt.ylabel('y (m)')\n",
    "plt.title('Energy density at z = %.2f m and t = %.2e s' % (z0, t0))\n",
    "plt.colorbar()\n",
    "plt.show()"
   ]
  },
  {
   "cell_type": "code",
   "execution_count": null,
   "metadata": {},
   "outputs": [],
   "source": [
    "import numpy as np\n",
    "import matplotlib.pyplot as plt\n",
    "\n",
    "# Define some parameters\n",
    "E0 = 1.0 # electric field amplitude\n",
    "x0 = 0.0 # beam center x position\n",
    "y0 = 0.0 # beam center y position\n",
    "w0 = 0.01 # beam waist radius\n",
    "zR = np.pi * w0**2 / 780e-9 # Rayleigh range\n",
    "tau = 10e-12 # pulse duration\n",
    "k = 2 * np.pi / 780e-9 # wave number\n",
    "omega = k * 3e8 # angular frequency\n",
    "phi = 0.0 # phase\n",
    "\n",
    "# Define a function to calculate the beam radius at a given z position\n",
    "def w(z):\n",
    "    return w0 * np.sqrt(1 + (z / zR)**2)\n",
    "\n",
    "# Define a function to calculate the electric field at a given position and time\n",
    "def E(x, y, z, t):\n",
    "    return E0 * np.exp(-((x - x0)**2 + (y - y0)**2) / w(z)**2) * np.exp(-((t - t0)**2) / tau**2) * np.exp(1j * (k * z - omega * t + phi))\n",
    "\n",
    "# Define a function to calculate the energy density at a given position and time\n",
    "def U(x, y, z, t):\n",
    "    return 0.5 * 8.85e-12 * 3e8 * abs(E(x, y, z, t))**2"
   ]
  },
  {
   "cell_type": "code",
   "execution_count": null,
   "metadata": {},
   "outputs": [],
   "source": [
    "# Define some arrays for x, y, z and t values\n",
    "x = np.linspace(-0.05, 0.05, 100)\n",
    "y = np.linspace(-0.05, 0.05, 100)\n",
    "z = np.linspace(-1, 1, 100)\n",
    "t = np.linspace(-50e-12, 50e-12, 100)\n",
    "\n",
    "# Choose a fixed x and y value for plotting\n",
    "x0 = 0.01 # x position in meters\n",
    "y0 = -0.02 # y position in meters\n",
    "\n",
    "# Calculate the energy density at x0 and y0 for different z and t values\n",
    "Uzt = U(x0, y0, z, t)\n",
    "\n",
    "# Plot the energy density using a contourf plot\n",
    "plt.figure()\n",
    "plt.contourf(z, t, Uzt.T, cmap='jet')\n",
    "plt.xlabel('z (m)')\n",
    "plt.ylabel('t (s)')\n",
    "plt.title('Energy density at x = %.2f m and y = %.2f m' % (x0, y0))\n",
    "plt.colorbar()\n",
    "plt.show()"
   ]
  },
  {
   "attachments": {},
   "cell_type": "markdown",
   "metadata": {},
   "source": [
    "一维激光脉冲电场的随时间的能量分布是指在某一空间位置上，激光脉冲的电场强度的平方随时间的变化。如果激光脉冲是高斯型的，那么它的电场强度可以用高斯函数来描述，例如\n",
    "其中$E_0$​是电场振幅，τ是脉宽，k是波数，ω是角频率，ϕ是相位。那么激光脉冲的能量分布可以用以下公式计算：\n",
    "$$ E(z,t)=E_0 \\exp\\left[-\\frac{(t-t_0)^2}{\\tau^2}\\right]\\exp\\left[i(kz-\\omega t+\\phi)\\right]$$\n",
    "\n",
    "$$U(z,t)=\\frac{1}{2}\\varepsilon_0 c \\left|E(z,t)\\right|^2$$\n",
    "其中$\\varepsilon_0​$是真空介电常数，$c$是光速。"
   ]
  },
  {
   "cell_type": "code",
   "execution_count": null,
   "metadata": {},
   "outputs": [],
   "source": [
    "import numpy as np\n",
    "import matplotlib.pyplot as plt\n",
    "\n",
    "# Define some parameters\n",
    "E0 = 1.0 # electric field amplitude\n",
    "tau = 10e-12 # pulse duration\n",
    "k = 2 * np.pi / 780e-9 # wave number\n",
    "omega = k * 3e8 # angular frequency\n",
    "phi = 0.0 # phase\n",
    "\n",
    "# Define a function to calculate the electric field at a given position and time\n",
    "def E(t):\n",
    "    return E0 * np.exp(-((t - t0)**2) / tau**2) * np.exp(1j * ( omega * t + phi))\n",
    "\n",
    "# Define a function to calculate the energy density at a given position and time\n",
    "def U(t):\n",
    "    return 0.5 * 8.85e-12 * 3e8 * abs(E(t))**2"
   ]
  },
  {
   "cell_type": "code",
   "execution_count": null,
   "metadata": {},
   "outputs": [],
   "source": [
    "# Define some arrays for t values\n",
    "\n",
    "t = np.linspace(-50e-12, 50e-12, 100)\n",
    "\n",
    "# Choose a fixed z value for plotting\n",
    "z0 = 0.5 # z position in meters\n",
    "\n",
    "# Calculate the energy density at z0 for different t values\n",
    "Ut = U(t)\n",
    "\n",
    "# Plot the energy density using a plot\n",
    "plt.figure()\n",
    "plt.plot(t, Ut)\n",
    "plt.xlabel('t (s)')\n",
    "plt.ylabel('U (J/m^3)')\n",
    "plt.title('Energy density at z = %.2f m' % (z0))\n",
    "plt.show()"
   ]
  },
  {
   "cell_type": "code",
   "execution_count": null,
   "metadata": {},
   "outputs": [],
   "source": [
    "dir = 'D:\\\\dataofpro\\\\output\\\\energy_efield.dat'\n",
    "dat = np.loadtxt(dir)\n",
    "plt.plot(dat[:,0],dat[:,1])\n",
    "plt.xlim(1510,1550)\n",
    "plt.show()\n",
    "print(sum(dat[:,1]))\n"
   ]
  },
  {
   "cell_type": "code",
   "execution_count": null,
   "metadata": {},
   "outputs": [],
   "source": []
  }
 ],
 "metadata": {
  "kernelspec": {
   "display_name": "Python 3",
   "language": "python",
   "name": "python3"
  },
  "language_info": {
   "codemirror_mode": {
    "name": "ipython",
    "version": 3
   },
   "file_extension": ".py",
   "mimetype": "text/x-python",
   "name": "python",
   "nbconvert_exporter": "python",
   "pygments_lexer": "ipython3",
   "version": "3.10.10"
  },
  "orig_nbformat": 4
 },
 "nbformat": 4,
 "nbformat_minor": 2
}

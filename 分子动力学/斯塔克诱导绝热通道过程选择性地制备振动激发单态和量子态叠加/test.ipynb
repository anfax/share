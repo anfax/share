{
 "cells": [
  {
   "cell_type": "code",
   "execution_count": null,
   "metadata": {},
   "outputs": [],
   "source": [
    "def hamiltonian(delta_11, delta_22, omega_12):\n",
    "    # delta_11 and delta_22 are the Stark shifts of levels 1 and 2\n",
    "    # omega_12 is the complex Rabi frequency between levels 1 and 2\n",
    "    # hbar is the reduced Planck constant\n",
    "    hbar = 1.0545718e-34 # in SI units\n",
    "    H = np.array([[delta_11, omega_12/2, 0], # Hamiltonian matrix\n",
    "                  [omega_12.conjugate()/2, delta_22, omega_12/2],\n",
    "                  [0, omega_12.conjugate()/2, 0]]) * hbar\n",
    "    return H\n"
   ]
  },
  {
   "cell_type": "code",
   "execution_count": null,
   "metadata": {},
   "outputs": [],
   "source": [
    "import numpy as np\n",
    "import scipy as sp\n",
    "hbar = 1.0545718e-34 # in SI units\n",
    "def schrodinger(t, psi, delta_11, delta_22, omega_12):\n",
    "    # t is the time variable\n",
    "    # psi is the state vector\n",
    "    # delta_11, delta_22, and omega_12 are the same as before\n",
    "    H = hamiltonian(delta_11, delta_22, omega_12) # get the Hamiltonian\n",
    "    i = complex(0, 1) # imaginary unit\n",
    "    dpsi_dt = -i * np.dot(H, psi) / hbar # right-hand side of Schrödinger equation\n",
    "    return dpsi_dt\n",
    "\n",
    "# initial state vector (ground state)\n",
    "psi0 = np.array([1, 0 ,0])\n",
    "i = complex(0, 1) # imaginary unit\n",
    "# time span (in nanoseconds)\n",
    "t_span = (0, 100)\n",
    "\n",
    "# parameters (example values)\n",
    "delta_11 = 0 # no Stark shift for level 1\n",
    "delta_22 = 2 * np.pi * 10e6 # Stark shift for level 2 (in Hz)\n",
    "omega_12 = 2 * np.pi * 5e6 * np.exp(i * np.pi / 4) # Rabi frequency (in Hz) with phase\n",
    "\n",
    "# solve the Schrödinger equation\n",
    "sol = sp.integrate.solve_ivp(schrodinger, t_span, psi0,args=(delta_11, delta_22, omega_12))\n"
   ]
  },
  {
   "cell_type": "code",
   "execution_count": null,
   "metadata": {},
   "outputs": [],
   "source": [
    "def plot_results(sol):\n",
    "    # sol is the solution object returned by solve_ivp\n",
    "    t = sol.t # time array\n",
    "    psi = sol.y # state vector array\n",
    "    pop = np.abs(psi)**2 # population array\n",
    "    plt.figure() # create a new figure\n",
    "    plt.plot(t, pop[0], label='Level 0') # plot level 0 population\n",
    "    plt.plot(t, pop[1], label='Level 1') # plot level 1 population\n",
    "    plt.plot(t, pop[2], label='Level 2') # plot level 2 population\n",
    "    plt.xlabel('Time (ns)') # add x-axis label\n",
    "    plt.ylabel('Population') # add y-axis label\n",
    "    plt.title('Raman adiabatic passage') # add title\n",
    "    plt.legend() # add legend\n",
    "    plt.show() # show the plot\n",
    "\n",
    "# plot the results\n",
    "plot_results(sol)\n"
   ]
  }
 ],
 "metadata": {
  "kernelspec": {
   "display_name": "Python 3",
   "language": "python",
   "name": "python3"
  },
  "language_info": {
   "codemirror_mode": {
    "name": "ipython",
    "version": 3
   },
   "file_extension": ".py",
   "mimetype": "text/x-python",
   "name": "python",
   "nbconvert_exporter": "python",
   "pygments_lexer": "ipython3",
   "version": "3.10.10"
  },
  "orig_nbformat": 4
 },
 "nbformat": 4,
 "nbformat_minor": 2
}
